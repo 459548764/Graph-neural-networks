{
 "cells": [
  {
   "cell_type": "markdown",
   "metadata": {},
   "source": [
    "# Prediction of molecular properties using GCN\n",
    "\n",
    "A tutorial for supervised learning of labels as outputs of graph inputs. <br>\n",
    "I implemented GCN and GAT to predict molecular properties and observed better results from GAT. <br>\n",
    "Please refer to the following article for the whole contents. <br>\n",
    "Ryu, Seongok, Jaechang Lim, and Woo Youn Kim. \"Deeply learning molecular structure-property relationships using graph attention neural network.\" arXiv preprint arXiv:1805.10988 (2018).\n",
    "\n",
    "There is a key difference between the node classification and prediction of labels from whole graph inputs. The later task has to satisfy permutation invariance with respect to changing node orders. Therefore, we will implement readout functions which satisfy the permutation invariance in this tutorial."
   ]
  },
  {
   "cell_type": "code",
   "execution_count": 1,
   "metadata": {},
   "outputs": [
    {
     "name": "stderr",
     "output_type": "stream",
     "text": [
      "/Users/Lulu/anaconda3/lib/python3.6/site-packages/h5py/__init__.py:36: FutureWarning: Conversion of the second argument of issubdtype from `float` to `np.floating` is deprecated. In future, it will be treated as `np.float64 == np.dtype(float).type`.\n",
      "  from ._conv import register_converters as _register_converters\n"
     ]
    }
   ],
   "source": [
    "import tensorflow as tf\n",
    "from IPython.display import Image"
   ]
  },
  {
   "cell_type": "markdown",
   "metadata": {},
   "source": [
    "Overall architecture is as below."
   ]
  },
  {
   "cell_type": "code",
   "execution_count": 2,
   "metadata": {},
   "outputs": [
    {
     "data": {
      "image/jpeg": "[encoded data removed]",
      "text/plain": [
       "<IPython.core.display.Image object>"
      ]
     },
     "execution_count": 2,
     "metadata": {},
     "output_type": "execute_result"
    }
   ],
   "source": [
    "Image('./figures/gcn_prediction.jpg')"
   ]
  },
  {
   "cell_type": "markdown",
   "metadata": {},
   "source": [
    "Let's assume that shapes of the adjacency matrix, feature matrix are same as the shapes of the matrix used in a 'gcn-node_classification' tutorial."
   ]
  },
  {
   "cell_type": "code",
   "execution_count": 3,
   "metadata": {},
   "outputs": [],
   "source": [
    "num_nodes = 50\n",
    "num_features = 50\n",
    "X = tf.placeholder(tf.float64, [None, num_nodes, num_features])\n",
    "A = tf.placeholder(tf.float64, [None, num_nodes, num_nodes])\n",
    "Y_truth = tf.placeholder(tf.float64, [None,])"
   ]
  },
  {
   "cell_type": "markdown",
   "metadata": {},
   "source": [
    "An implementation of graph convolution layer is same also."
   ]
  },
  {
   "cell_type": "code",
   "execution_count": 4,
   "metadata": {},
   "outputs": [],
   "source": [
    "def graph_conv(_X, _A, output_dim):\n",
    "    output = tf.layers.dense(_X, units=output_dim, use_bias=True)\n",
    "    output = tf.matmul(_A, output)\n",
    "    output = tf.nn.relu(output)\n",
    "    return output"
   ]
  },
  {
   "cell_type": "markdown",
   "metadata": {},
   "source": [
    "We have to implement the readout function as described above. <br> \n",
    "There are two types of the implementation: node-wise summation (nw) and graph gathering (gg). <br>\n",
    "Equations are as follow, respectively.\n",
    "\n",
    "$$ R_{nw} = \\tau(\\sum_{i \\in G} MLP(H_{i}^{L})) $$\n",
    "$$ R_{gg} = \\tau(\\sum_{i \\in G} \\sigma(MLP_1(H_{i}^{L} | H_{i}^{0})) \\odot MLP_2(H_{i}^{L}))$$\n",
    "\n",
    "Notations :\n",
    "* $ \\tau $  : ReLU activation (or other non-linear activations)\n",
    "* $ \\sigma $ : sigmoid activation\n",
    "* $ \\odot $ : elementwise-multiplication - Hadamard product \n",
    "* $ (\\cdot|\\cdot) $ : concatenation\n",
    "    \n",
    "Please refer to the following article for the more detail. <br>\n",
    "Gilmer, Justin, et al. \"Neural message passing for quantum chemistry.\" arXiv preprint arXiv:1704.01212 (2017)."
   ]
  },
  {
   "cell_type": "code",
   "execution_count": 5,
   "metadata": {},
   "outputs": [],
   "source": [
    "def readout_nw(_X, output_dim):\n",
    "    # _X : final node embeddings\n",
    "    output = tf.layers.dense(_X, output_dim, use_bias=True)\n",
    "    output = tf.reduce_sum(output, axis=1)\n",
    "    output = tf.nn.relu(output)\n",
    "    \n",
    "    return output"
   ]
  },
  {
   "cell_type": "code",
   "execution_count": 6,
   "metadata": {},
   "outputs": [],
   "source": [
    "def readout_gg(_X, X, output_dim):\n",
    "    # _X : final node embeddings\n",
    "    # X : initial node features\n",
    "    val1 = tf.layers.dense(tf.concat([_X, X], axis=2), output_dim, use_bias=True)\n",
    "    val1 = tf.nn.sigmoid(val1)\n",
    "    val2 = tf.layers.dense(_X, output_dim, use_bias=True)\n",
    "    output = tf.multiply(val1, val2)\n",
    "    output = tf.reduce_sum(output, axis=1)\n",
    "    output = tf.nn.relu(output)\n",
    "    \n",
    "    return output"
   ]
  },
  {
   "cell_type": "markdown",
   "metadata": {},
   "source": [
    "We finished preparing necessary functions in the architecture. <br>\n",
    "Therefore, the implementation of the overall architecture is as below."
   ]
  },
  {
   "cell_type": "code",
   "execution_count": 7,
   "metadata": {},
   "outputs": [
    {
     "data": {
      "text/plain": [
       "<tf.Tensor 'Relu_3:0' shape=(?, 128) dtype=float64>"
      ]
     },
     "execution_count": 7,
     "metadata": {},
     "output_type": "execute_result"
    }
   ],
   "source": [
    "gconv1 = graph_conv(X, A, 32)\n",
    "gconv2 = graph_conv(gconv1, A, 32)\n",
    "gconv3 = graph_conv(gconv2, A, 32)\n",
    "graph_feature = readout_gg(gconv3, gconv1, 128)\n",
    "graph_feature"
   ]
  },
  {
   "cell_type": "code",
   "execution_count": 8,
   "metadata": {},
   "outputs": [
    {
     "data": {
      "text/plain": [
       "<tf.Tensor 'dense_7/BiasAdd:0' shape=(?, 1) dtype=float64>"
      ]
     },
     "execution_count": 8,
     "metadata": {},
     "output_type": "execute_result"
    }
   ],
   "source": [
    "Y_pred = tf.layers.dense(graph_feature, 128, use_bias=True, activation=tf.nn.relu)\n",
    "Y_pred = tf.layers.dense(Y_pred, 128, use_bias=True, activation=tf.nn.tanh)\n",
    "Y_pred = tf.layers.dense(Y_pred, 1, use_bias=True, activation=None)\n",
    "Y_pred"
   ]
  },
  {
   "cell_type": "markdown",
   "metadata": {},
   "source": [
    "A loss function have to be minimized in this task is l2-norm."
   ]
  },
  {
   "cell_type": "code",
   "execution_count": 9,
   "metadata": {},
   "outputs": [
    {
     "data": {
      "text/plain": [
       "<tf.Tensor 'Mean:0' shape=() dtype=float64>"
      ]
     },
     "execution_count": 9,
     "metadata": {},
     "output_type": "execute_result"
    }
   ],
   "source": [
    "Y_pred = tf.reshape(Y_pred, shape=[-1])\n",
    "Y_truth = tf.reshape(Y_truth, shape=[-1])\n",
    "loss = tf.reduce_mean(tf.pow(Y_truth - Y_pred,2))\n",
    "loss"
   ]
  },
  {
   "cell_type": "markdown",
   "metadata": {},
   "source": [
    "Yes, we have completed all necessary preparations for training.\n",
    "\n",
    "I upload all codes which implement the supervised learning of prediction molecular properties at the 'gnn-molecule' folder. <br>\n",
    "Scripts for preprocessing also exist. Hope you enjoy the graph neural networks from this moment!\n"
   ]
  }
 ],
 "metadata": {
  "kernelspec": {
   "display_name": "Python 3",
   "language": "python",
   "name": "python3"
  },
  "language_info": {
   "codemirror_mode": {
    "name": "ipython",
    "version": 3
   },
   "file_extension": ".py",
   "mimetype": "text/x-python",
   "name": "python",
   "nbconvert_exporter": "python",
   "pygments_lexer": "ipython3",
   "version": "3.6.5"
  }
 },
 "nbformat": 4,
 "nbformat_minor": 2
}
